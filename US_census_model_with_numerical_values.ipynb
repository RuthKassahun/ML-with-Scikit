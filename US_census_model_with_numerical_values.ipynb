{
  "nbformat": 4,
  "nbformat_minor": 0,
  "metadata": {
    "colab": {
      "name": "US_census_model_with_numerical_values.ipynb",
      "provenance": [],
      "authorship_tag": "ABX9TyOzVb3V5/lcQ6AO0e9VwzG7",
      "include_colab_link": true
    },
    "kernelspec": {
      "name": "python3",
      "display_name": "Python 3"
    },
    "language_info": {
      "name": "python"
    }
  },
  "cells": [
    {
      "cell_type": "markdown",
      "metadata": {
        "id": "view-in-github",
        "colab_type": "text"
      },
      "source": [
        "<a href=\"https://colab.research.google.com/github/RuthKassahun/ML-with-Scikit/blob/main/US_census_model_with_numerical_values.ipynb\" target=\"_parent\"><img src=\"https://colab.research.google.com/assets/colab-badge.svg\" alt=\"Open In Colab\"/></a>"
      ]
    },
    {
      "cell_type": "code",
      "execution_count": null,
      "metadata": {
        "id": "MqctDvvQPR5L"
      },
      "outputs": [],
      "source": [
        "import os\n",
        "from google.colab import drive\n",
        "drive.mount('/content/drive')\n",
        "DATA_DIR = \"/content/drive/MyDrive/US_census/\"\n",
        "\n",
        "!ls $DATA_DIR"
      ]
    },
    {
      "cell_type": "code",
      "source": [
        "train_file = 'phpMawTba.csv'\n",
        "train_fn = os.path.join(DATA_DIR, train_file)\n",
        "print(train_fn)\n"
      ],
      "metadata": {
        "id": "WmfWYrLZPgOS"
      },
      "execution_count": null,
      "outputs": []
    }
  ]
}