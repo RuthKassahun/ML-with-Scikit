{
  "nbformat": 4,
  "nbformat_minor": 0,
  "metadata": {
    "colab": {
      "name": "sci-kit Intro.ipynb",
      "provenance": [],
      "authorship_tag": "ABX9TyO64UHYZQjUDzQhRVvO6dnG",
      "include_colab_link": true
    },
    "kernelspec": {
      "name": "python3",
      "display_name": "Python 3"
    },
    "language_info": {
      "name": "python"
    }
  },
  "cells": [
    {
      "cell_type": "markdown",
      "metadata": {
        "id": "view-in-github",
        "colab_type": "text"
      },
      "source": [
        "<a href=\"https://colab.research.google.com/github/RuthKassahun/ML-with-Scikit/blob/main/sci_kit_Intro.ipynb\" target=\"_parent\"><img src=\"https://colab.research.google.com/assets/colab-badge.svg\" alt=\"Open In Colab\"/></a>"
      ]
    },
    {
      "cell_type": "code",
      "execution_count": 9,
      "metadata": {
        "colab": {
          "base_uri": "https://localhost:8080/"
        },
        "id": "tIjANi219W4o",
        "outputId": "81cc35c9-38eb-4b60-8aa2-3e8bda049701"
      },
      "outputs": [
        {
          "output_type": "execute_result",
          "data": {
            "text/plain": [
              "array([0.5, 0.5])"
            ]
          },
          "metadata": {},
          "execution_count": 9
        }
      ],
      "source": [
        "from sklearn import linear_model\n",
        "regre = linear_model.LinearRegression()\n",
        "regre.fit([[0, 0], [1, 1], [2, 2]], [0, 1, 2])\n",
        "regre.coef_"
      ]
    },
    {
      "cell_type": "code",
      "source": [
        ""
      ],
      "metadata": {
        "id": "C_5kaV-gDj9h"
      },
      "execution_count": null,
      "outputs": []
    }
  ]
}