{
  "nbformat": 4,
  "nbformat_minor": 0,
  "metadata": {
    "colab": {
      "name": "MachineLearningWithIRIS.ipynb",
      "provenance": [],
      "authorship_tag": "ABX9TyPnDU57rPi+Tg1EPHXXk9H7",
      "include_colab_link": true
    },
    "kernelspec": {
      "name": "python3",
      "display_name": "Python 3"
    },
    "language_info": {
      "name": "python"
    }
  },
  "cells": [
    {
      "cell_type": "markdown",
      "metadata": {
        "id": "view-in-github",
        "colab_type": "text"
      },
      "source": [
        "<a href=\"https://colab.research.google.com/github/RuthKassahun/ML-with-Scikit/blob/main/MachineLearningWithIRIS.ipynb\" target=\"_parent\"><img src=\"https://colab.research.google.com/assets/colab-badge.svg\" alt=\"Open In Colab\"/></a>"
      ]
    },
    {
      "cell_type": "code",
      "execution_count": null,
      "metadata": {
        "id": "IDVKoPYloty2"
      },
      "outputs": [],
      "source": [
        "from sklearn.datasets import load_iris"
      ]
    },
    {
      "cell_type": "code",
      "source": [
        "iris = load_iris()\n",
        "type(iris)"
      ],
      "metadata": {
        "id": "D5VUDx69o9Oq"
      },
      "execution_count": null,
      "outputs": []
    },
    {
      "cell_type": "code",
      "source": [
        "print(iris)\n"
      ],
      "metadata": {
        "id": "1sOf2ZFNpFNC"
      },
      "execution_count": null,
      "outputs": []
    },
    {
      "cell_type": "markdown",
      "source": [
        "> Rows  - **observations, samples, records or instances**\n",
        "\n",
        ">columns - **feature, predicator, attribute, regressor**"
      ],
      "metadata": {
        "id": "BufVpxs3pheo"
      }
    },
    {
      "cell_type": "code",
      "source": [
        "print (iris.feature_names)"
      ],
      "metadata": {
        "id": "bHFv1wHgpwvT"
      },
      "execution_count": null,
      "outputs": []
    },
    {
      "cell_type": "code",
      "source": [
        "print (iris.target)"
      ],
      "metadata": {
        "id": "sXQKKStPqR95"
      },
      "execution_count": null,
      "outputs": []
    },
    {
      "cell_type": "code",
      "source": [
        "print (iris.target_names)"
      ],
      "metadata": {
        "id": "o6Y860jdqflK"
      },
      "execution_count": null,
      "outputs": []
    },
    {
      "cell_type": "code",
      "source": [
        "print (type(iris.data))\n",
        "print (type(iris.target))"
      ],
      "metadata": {
        "id": "_-zzE_p-rJ1b"
      },
      "execution_count": null,
      "outputs": []
    },
    {
      "cell_type": "code",
      "source": [
        "print (iris.data.shape)"
      ],
      "metadata": {
        "id": "Mx7oooJKrzFp"
      },
      "execution_count": null,
      "outputs": []
    },
    {
      "cell_type": "code",
      "source": [
        "x = iris.data\n",
        "y = iris.target"
      ],
      "metadata": {
        "id": "Wk-5DvqwsTM5"
      },
      "execution_count": null,
      "outputs": []
    }
  ]
}