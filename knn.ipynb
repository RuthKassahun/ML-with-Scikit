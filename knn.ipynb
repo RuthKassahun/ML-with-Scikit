{
  "nbformat": 4,
  "nbformat_minor": 0,
  "metadata": {
    "colab": {
      "name": "knn.ipynb",
      "provenance": [],
      "authorship_tag": "ABX9TyM5v2/5nJfFGjb5a+qsK0FT",
      "include_colab_link": true
    },
    "kernelspec": {
      "name": "python3",
      "display_name": "Python 3"
    },
    "language_info": {
      "name": "python"
    }
  },
  "cells": [
    {
      "cell_type": "markdown",
      "metadata": {
        "id": "view-in-github",
        "colab_type": "text"
      },
      "source": [
        "<a href=\"https://colab.research.google.com/github/RuthKassahun/ML-with-Scikit/blob/main/knn.ipynb\" target=\"_parent\"><img src=\"https://colab.research.google.com/assets/colab-badge.svg\" alt=\"Open In Colab\"/></a>"
      ]
    },
    {
      "cell_type": "code",
      "execution_count": 63,
      "metadata": {
        "id": "yjvoCXG0kys7"
      },
      "outputs": [],
      "source": [
        "from sklearn import datasets\n",
        "import numpy as np\n",
        "import pandas as pd\n",
        "from sklearn import neighbors, metrics\n",
        "from sklearn.model_selection import train_test_split\n",
        "from sklearn.preprocessing import LabelEncoder\n"
      ]
    },
    {
      "cell_type": "code",
      "source": [
        "import os\n",
        "from google.colab import drive\n",
        "drive.mount('/content/drive')\n",
        "DATA_DIR = \"/content/drive/MyDrive/car_data/\"\n",
        "\n",
        "!ls $DATA_DIR"
      ],
      "metadata": {
        "id": "LFKZgqriqWmj"
      },
      "execution_count": null,
      "outputs": []
    },
    {
      "cell_type": "code",
      "source": [
        "train_file = 'car.data'\n",
        "train_fn = os.path.join(DATA_DIR, train_file)\n",
        "print(train_fn)"
      ],
      "metadata": {
        "colab": {
          "base_uri": "https://localhost:8080/"
        },
        "id": "J3uDjkaZqgda",
        "outputId": "8b878f22-4955-498e-ca28-b9c49306c909"
      },
      "execution_count": 64,
      "outputs": [
        {
          "output_type": "stream",
          "name": "stdout",
          "text": [
            "/content/drive/MyDrive/car_data/car.data\n"
          ]
        }
      ]
    },
    {
      "cell_type": "code",
      "source": [
        "data = pd.read_csv(train_fn)"
      ],
      "metadata": {
        "id": "iwcEVGmhql98"
      },
      "execution_count": 65,
      "outputs": []
    },
    {
      "cell_type": "code",
      "source": [
        "data.head()"
      ],
      "metadata": {
        "id": "ewY9WJjTqu_D"
      },
      "execution_count": null,
      "outputs": []
    },
    {
      "cell_type": "code",
      "source": [
        "x = data[['buying','maint','safety']].values\n",
        "y = data[['class']]\n",
        "print(x,y)"
      ],
      "metadata": {
        "id": "5Ka_IIaUq-kY"
      },
      "execution_count": null,
      "outputs": []
    },
    {
      "cell_type": "code",
      "source": [
        "le = LabelEncoder()\n",
        "for i in range(len(x[0])):\n",
        "    x[:,i] = le.fit_transform(x[:,i])\n",
        "print(x)"
      ],
      "metadata": {
        "id": "XGWMcg_zvb2k"
      },
      "execution_count": null,
      "outputs": []
    },
    {
      "cell_type": "code",
      "source": [
        "label_mapping =  {\n",
        "    'unacc':0,\n",
        "    'acc':1,\n",
        "    'good':2,\n",
        "    'vgood':3\n",
        "}\n",
        "\n"
      ],
      "metadata": {
        "id": "P_ou0KVFx_Ox"
      },
      "execution_count": 74,
      "outputs": []
    },
    {
      "cell_type": "code",
      "source": [
        "y['class'] = y['class'].map(label_mapping)\n",
        "y = np.array(y)"
      ],
      "metadata": {
        "colab": {
          "base_uri": "https://localhost:8080/"
        },
        "id": "xh_yW8ZWzM50",
        "outputId": "296f4594-6f48-4921-e86d-5541ea86b82f"
      },
      "execution_count": 75,
      "outputs": [
        {
          "output_type": "stream",
          "name": "stderr",
          "text": [
            "/usr/local/lib/python3.7/dist-packages/ipykernel_launcher.py:1: SettingWithCopyWarning: \n",
            "A value is trying to be set on a copy of a slice from a DataFrame.\n",
            "Try using .loc[row_indexer,col_indexer] = value instead\n",
            "\n",
            "See the caveats in the documentation: https://pandas.pydata.org/pandas-docs/stable/user_guide/indexing.html#returning-a-view-versus-a-copy\n",
            "  \"\"\"Entry point for launching an IPython kernel.\n"
          ]
        }
      ]
    },
    {
      "cell_type": "code",
      "source": [
        "print(y)"
      ],
      "metadata": {
        "id": "Wdm-hWCzzmBF"
      },
      "execution_count": null,
      "outputs": []
    },
    {
      "cell_type": "code",
      "source": [
        "knn = neighbors.KNeighborsClassifier(n_neighbors=25, weights='uniform')"
      ],
      "metadata": {
        "id": "wxXzaoCLzwoY"
      },
      "execution_count": 77,
      "outputs": []
    },
    {
      "cell_type": "code",
      "source": [
        "x_train,x_test,y_train,y_test = train_test_split(x,y,test_size=0.2)"
      ],
      "metadata": {
        "id": "eAF4hovuz7qr"
      },
      "execution_count": 78,
      "outputs": []
    },
    {
      "cell_type": "code",
      "source": [
        "knn.fit(x_train,y_train)\n",
        "prediction = knn.predict(x_test)"
      ],
      "metadata": {
        "colab": {
          "base_uri": "https://localhost:8080/"
        },
        "id": "SM6VIYTg0hMS",
        "outputId": "0f7751b3-28fc-4539-9520-7ca61f304d75"
      },
      "execution_count": 79,
      "outputs": [
        {
          "output_type": "stream",
          "name": "stderr",
          "text": [
            "/usr/local/lib/python3.7/dist-packages/sklearn/neighbors/_classification.py:198: DataConversionWarning: A column-vector y was passed when a 1d array was expected. Please change the shape of y to (n_samples,), for example using ravel().\n",
            "  return self._fit(X, y)\n"
          ]
        }
      ]
    },
    {
      "cell_type": "code",
      "source": [
        "accuracy = metrics.accuracy_score(y_test,prediction)\n",
        "print(\"prediction: \",prediction)\n",
        "print(\"accuracy : \", accuracy)"
      ],
      "metadata": {
        "id": "2O5h0z4D0709"
      },
      "execution_count": null,
      "outputs": []
    },
    {
      "cell_type": "code",
      "source": [
        "print(\"actual value: \",y[20])\n",
        "print(\"predicted vale : \",knn.predict(x)[20])"
      ],
      "metadata": {
        "colab": {
          "base_uri": "https://localhost:8080/"
        },
        "id": "pLYYo0xM4CjD",
        "outputId": "72dc2fa5-e3b3-4876-93bc-13647c4fe28f"
      },
      "execution_count": 82,
      "outputs": [
        {
          "output_type": "stream",
          "name": "stdout",
          "text": [
            "actual value:  [0]\n",
            "predicted vale :  0\n"
          ]
        }
      ]
    }
  ]
}