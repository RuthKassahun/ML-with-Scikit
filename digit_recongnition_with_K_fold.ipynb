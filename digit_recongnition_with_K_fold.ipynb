{
  "nbformat": 4,
  "nbformat_minor": 0,
  "metadata": {
    "colab": {
      "name": "digit_recongnition_with K_fold.ipynb",
      "provenance": [],
      "authorship_tag": "ABX9TyOU91fh9FqJ2kDMsaspCLUT",
      "include_colab_link": true
    },
    "kernelspec": {
      "name": "python3",
      "display_name": "Python 3"
    },
    "language_info": {
      "name": "python"
    }
  },
  "cells": [
    {
      "cell_type": "markdown",
      "metadata": {
        "id": "view-in-github",
        "colab_type": "text"
      },
      "source": [
        "<a href=\"https://colab.research.google.com/github/RuthKassahun/ML-with-Scikit/blob/main/digit_recongnition_with_K_fold.ipynb\" target=\"_parent\"><img src=\"https://colab.research.google.com/assets/colab-badge.svg\" alt=\"Open In Colab\"/></a>"
      ]
    },
    {
      "cell_type": "code",
      "execution_count": 30,
      "metadata": {
        "id": "qrbIjKljoIME"
      },
      "outputs": [],
      "source": [
        "from sklearn.linear_model import LogisticRegression\n",
        "from sklearn.svm import SVC\n",
        "from sklearn.ensemble import RandomForestClassifier\n",
        "from sklearn.model_selection import train_test_split\n",
        "from sklearn.model_selection import StratifiedKFold\n",
        "import numpy as np\n",
        "from sklearn.datasets import load_digits"
      ]
    },
    {
      "cell_type": "code",
      "source": [
        "digits = load_digits()"
      ],
      "metadata": {
        "id": "xaKtmby3o7bX"
      },
      "execution_count": 2,
      "outputs": []
    },
    {
      "cell_type": "code",
      "source": [
        "print(digits)"
      ],
      "metadata": {
        "id": "f0NFndXgo_K5"
      },
      "execution_count": null,
      "outputs": []
    },
    {
      "cell_type": "code",
      "source": [
        "x_train,x_test,y_train,y_test = train_test_split(digits.data,digits.target,test_size=0.3)\n"
      ],
      "metadata": {
        "id": "WuyO7UswptfB"
      },
      "execution_count": 13,
      "outputs": []
    },
    {
      "cell_type": "code",
      "source": [
        "ir = LogisticRegression()\n",
        "ir.fit(x_train,y_train)\n",
        "ir.score(x_test,y_test)"
      ],
      "metadata": {
        "id": "ZQjk-MUFqDQV"
      },
      "execution_count": null,
      "outputs": []
    },
    {
      "cell_type": "code",
      "source": [
        "svm = SVC()\n",
        "svm.fit(x_train,y_train)\n",
        "svm.score(x_test,y_test)"
      ],
      "metadata": {
        "colab": {
          "base_uri": "https://localhost:8080/"
        },
        "id": "r93HcENiqyTr",
        "outputId": "dd3d86fb-b6d9-4cf9-a767-43dab0ae0649"
      },
      "execution_count": 15,
      "outputs": [
        {
          "output_type": "execute_result",
          "data": {
            "text/plain": [
              "0.987037037037037"
            ]
          },
          "metadata": {},
          "execution_count": 15
        }
      ]
    },
    {
      "cell_type": "code",
      "source": [
        "rf = RandomForestClassifier(n_estimators=40)\n",
        "rf.fit(x_train,y_train)\n",
        "rf.score(x_test,y_test)"
      ],
      "metadata": {
        "colab": {
          "base_uri": "https://localhost:8080/"
        },
        "id": "OtuKhc1frBU1",
        "outputId": "93605aea-4f0f-4b03-f93b-16a4ad2d4ca7"
      },
      "execution_count": 16,
      "outputs": [
        {
          "output_type": "execute_result",
          "data": {
            "text/plain": [
              "0.9740740740740741"
            ]
          },
          "metadata": {},
          "execution_count": 16
        }
      ]
    },
    {
      "cell_type": "code",
      "source": [
        "from sklearn.model_selection import KFold\n",
        "kf = KFold(n_splits = 5)\n",
        "kf"
      ],
      "metadata": {
        "colab": {
          "base_uri": "https://localhost:8080/"
        },
        "id": "Q2nQqQrxsbL2",
        "outputId": "25abbb3e-67f0-4d75-eac8-0c3ca628c5bd"
      },
      "execution_count": 23,
      "outputs": [
        {
          "output_type": "execute_result",
          "data": {
            "text/plain": [
              "KFold(n_splits=5, random_state=None, shuffle=False)"
            ]
          },
          "metadata": {},
          "execution_count": 23
        }
      ]
    },
    {
      "cell_type": "code",
      "source": [
        "for train_index,test_index in kf.split([1,2,3,4,5,6,7,8,9,10]):\n",
        "  print(train_index,test_index)\n"
      ],
      "metadata": {
        "colab": {
          "base_uri": "https://localhost:8080/"
        },
        "id": "lv_jSCqDsmTJ",
        "outputId": "e99d71db-c4d2-49b5-c55b-58076f5760eb"
      },
      "execution_count": 24,
      "outputs": [
        {
          "output_type": "stream",
          "name": "stdout",
          "text": [
            "[2 3 4 5 6 7 8 9] [0 1]\n",
            "[0 1 4 5 6 7 8 9] [2 3]\n",
            "[0 1 2 3 6 7 8 9] [4 5]\n",
            "[0 1 2 3 4 5 8 9] [6 7]\n",
            "[0 1 2 3 4 5 6 7] [8 9]\n"
          ]
        }
      ]
    },
    {
      "cell_type": "code",
      "source": [
        "def get_score (model,x_train,x_test,y_train,y_test):\n",
        "  model.fit(x_train,y_train)\n",
        "  return model.score(x_test,y_test)"
      ],
      "metadata": {
        "id": "_9LUKooqtT6-"
      },
      "execution_count": 26,
      "outputs": []
    },
    {
      "cell_type": "code",
      "source": [
        "get_score(LogisticRegression(),x_train,x_test,y_train,y_test)\n"
      ],
      "metadata": {
        "id": "wF2MWvxStj8F"
      },
      "execution_count": null,
      "outputs": []
    },
    {
      "cell_type": "code",
      "source": [
        "get_score(RandomForestClassifier(),x_train,x_test,y_train,y_test)"
      ],
      "metadata": {
        "id": "h9gUTuyEugTW"
      },
      "execution_count": null,
      "outputs": []
    },
    {
      "cell_type": "code",
      "source": [
        "folds = StratifiedKFold(n_splits=3)"
      ],
      "metadata": {
        "id": "PoZYz5vBu5Ib"
      },
      "execution_count": 31,
      "outputs": []
    },
    {
      "cell_type": "code",
      "source": [
        "get_score(LogisticRegression(),x_train,x_test,y_train,y_test)"
      ],
      "metadata": {
        "id": "MKD-_g5evMba"
      },
      "execution_count": null,
      "outputs": []
    },
    {
      "cell_type": "code",
      "source": [
        "scores_l = []\n",
        "scores_svm= []\n",
        "scores_rf =[]\n",
        "\n",
        "for train_index,test_index in kf.split(digits.data):\n",
        "  x_train,x_test,y_train,y_test = digits.data[train_index],digits.data[test_index],digits.target[train_index],digits.target[test_index]\n",
        "  scores_l.append(get_score(LogisticRegression(),x_train,x_test,y_train,y_test))\n",
        "  scores_l.append(get_score(SVC(),x_train,x_test,y_train,y_test))\n",
        "  scores_l.append(get_score(RandomForestClassifier(),x_train,x_test,y_train,y_test))"
      ],
      "metadata": {
        "id": "U1pq6_xnvOXU"
      },
      "execution_count": null,
      "outputs": []
    }
  ]
}