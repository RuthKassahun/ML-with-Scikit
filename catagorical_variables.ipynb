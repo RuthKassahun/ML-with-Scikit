{
  "nbformat": 4,
  "nbformat_minor": 0,
  "metadata": {
    "colab": {
      "name": "catagorical_variables.ipynb",
      "provenance": [],
      "authorship_tag": "ABX9TyN0vt/Mn51pslY8EKYLooqx",
      "include_colab_link": true
    },
    "kernelspec": {
      "name": "python3",
      "display_name": "Python 3"
    },
    "language_info": {
      "name": "python"
    }
  },
  "cells": [
    {
      "cell_type": "markdown",
      "metadata": {
        "id": "view-in-github",
        "colab_type": "text"
      },
      "source": [
        "<a href=\"https://colab.research.google.com/github/RuthKassahun/ML-with-Scikit/blob/main/catagorical_variables.ipynb\" target=\"_parent\"><img src=\"https://colab.research.google.com/assets/colab-badge.svg\" alt=\"Open In Colab\"/></a>"
      ]
    },
    {
      "cell_type": "code",
      "source": [
        "import os\n",
        "from google.colab import drive\n",
        "drive.mount('/content/drive')\n",
        "DATA_DIR = \"/content/drive/MyDrive/US_census/\"\n",
        "\n",
        "!ls $DATA_DIR"
      ],
      "metadata": {
        "id": "qBmkLJpo-15M"
      },
      "execution_count": null,
      "outputs": []
    },
    {
      "cell_type": "code",
      "source": [
        "train_file = 'phpMawTba.csv'\n",
        "train_fn = os.path.join(DATA_DIR, train_file)\n",
        "print(train_fn)"
      ],
      "metadata": {
        "id": "wiNw9yF4_AFU"
      },
      "execution_count": null,
      "outputs": []
    },
    {
      "cell_type": "code",
      "execution_count": null,
      "metadata": {
        "id": "DmswZQyZ-mmf"
      },
      "outputs": [],
      "source": [
        "import pandas as pd\n",
        "census = pd.read_csv(train_fn)\n",
        "\n",
        "census.head()"
      ]
    },
    {
      "cell_type": "markdown",
      "source": [
        "\n",
        "\n",
        "> Drop Education Num feature\n"
      ],
      "metadata": {
        "id": "X97QLIer_dz6"
      }
    },
    {
      "cell_type": "code",
      "source": [
        "census = census.drop(columns=\"education-num\")"
      ],
      "metadata": {
        "id": "E4FCkcHP_dTq"
      },
      "execution_count": 4,
      "outputs": []
    },
    {
      "cell_type": "code",
      "source": [
        "target_name = \"class\"\n",
        "target = census[target_name]\n",
        "\n",
        "data= census.drop(columns=[target_name])"
      ],
      "metadata": {
        "id": "weHT9xAA_-8U"
      },
      "execution_count": 5,
      "outputs": []
    },
    {
      "cell_type": "code",
      "source": [
        "data[\"native-country\"].value_counts().sort_index()"
      ],
      "metadata": {
        "id": "fvbOLE7PAR3U"
      },
      "execution_count": null,
      "outputs": []
    },
    {
      "cell_type": "markdown",
      "source": [
        "> To recognize catagorical columns in the dataset use dtype\n",
        "> String data values are represented as Object"
      ],
      "metadata": {
        "id": "RmY0uBUpAx5b"
      }
    },
    {
      "cell_type": "code",
      "source": [
        "data.dtypes"
      ],
      "metadata": {
        "id": "RzzYMpxAAwuJ"
      },
      "execution_count": null,
      "outputs": []
    },
    {
      "cell_type": "markdown",
      "source": [
        ">**'Make_column_selector'** in sci-kit library can be used to catagorize our features into their data types"
      ],
      "metadata": {
        "id": "LDxsAXn5C0_a"
      }
    },
    {
      "cell_type": "code",
      "source": [
        "from sklearn.compose import make_column_selector as selector\n",
        "catagorical_columns_selector = selector(dtype_include=object)\n",
        "catagorical_columns = catagorical_columns_selector(data)\n",
        "catagorical_columns"
      ],
      "metadata": {
        "id": "sSnJmowaBXJ7"
      },
      "execution_count": null,
      "outputs": []
    },
    {
      "cell_type": "code",
      "source": [
        "data_catagorical = data[catagorical_columns]\n",
        "data_catagorical.head()"
      ],
      "metadata": {
        "id": "ZzNQrHhIBeVP"
      },
      "execution_count": null,
      "outputs": []
    },
    {
      "cell_type": "code",
      "source": [
        "print(f\" The dataset is composed of {data_catagorical.shape[1]} features\")"
      ],
      "metadata": {
        "id": "re0uz7tTDbo9"
      },
      "execution_count": null,
      "outputs": []
    },
    {
      "cell_type": "markdown",
      "source": [
        ">Encoding oridinal (data with order) catagories to numerical values using **'OrdianlEncoder' **"
      ],
      "metadata": {
        "id": "UTLkhOu6D22w"
      }
    },
    {
      "cell_type": "code",
      "source": [
        "from sklearn.preprocessing import OrdinalEncoder\n",
        "\n",
        "education_column = data_catagorical[[\"education\"]]\n",
        "\n",
        "encoder = OrdinalEncoder()\n",
        "education_encoder = encoder.fit_transform(education_column)\n",
        "education_encoder"
      ],
      "metadata": {
        "id": "jXk-4DxuEETI"
      },
      "execution_count": null,
      "outputs": []
    },
    {
      "cell_type": "markdown",
      "source": [
        "> The mapping with respective educational level can be checked"
      ],
      "metadata": {
        "id": "NUDvd-d6E_jO"
      }
    },
    {
      "cell_type": "code",
      "source": [
        "encoder.categories_"
      ],
      "metadata": {
        "id": "mtu0CovlFH4N"
      },
      "execution_count": null,
      "outputs": []
    },
    {
      "cell_type": "code",
      "source": [
        "data_encoded = encoder.fit_transform(data_catagorical)\n",
        "data_encoded[:5]"
      ],
      "metadata": {
        "id": "yjQYotwSFc8e"
      },
      "execution_count": null,
      "outputs": []
    },
    {
      "cell_type": "code",
      "source": [
        "print(f\"The dataset encoded contains {data_encoded.shape[1]} feature\")"
      ],
      "metadata": {
        "id": "s4HHwOIBGCYn"
      },
      "execution_count": null,
      "outputs": []
    },
    {
      "cell_type": "markdown",
      "source": [
        "> One-hot dot encoder"
      ],
      "metadata": {
        "id": "ENQg9WvOGkul"
      }
    },
    {
      "cell_type": "code",
      "source": [
        "from sklearn.preprocessing import OneHotEncoder\n",
        "\n",
        "encoder = OneHotEncoder(sparse=False)\n",
        "education_encodered = encoder.fit_transform(education_column)\n",
        "education_encodered"
      ],
      "metadata": {
        "id": "17znOgGyGBj-"
      },
      "execution_count": null,
      "outputs": []
    },
    {
      "cell_type": "code",
      "source": [
        "feature_names = encoder.get_feature_names_out(input_features=[\"education\"])\n",
        "education_encodered = pd.DataFrame(education_encodered,columns=feature_names)\n",
        "education_encodered"
      ],
      "metadata": {
        "id": "DKFvgfgQD8Xg"
      },
      "execution_count": null,
      "outputs": []
    },
    {
      "cell_type": "code",
      "source": [
        "print(f\"The dataset is composed of {data_catagorical.shape[1]} features\")\n",
        "data_catagorical.head()"
      ],
      "metadata": {
        "id": "7AaW3mSFEw6J"
      },
      "execution_count": null,
      "outputs": []
    },
    {
      "cell_type": "code",
      "source": [
        "data_encoded = encoder.fit_transform(data_catagorical)\n",
        "print(f\"The encoded dataset contains {data_encoded.shape[1]} features\")"
      ],
      "metadata": {
        "id": "_KQEaibxF-0S"
      },
      "execution_count": null,
      "outputs": []
    },
    {
      "cell_type": "code",
      "source": [
        "columns_encoded = encoder.get_feature_names_out(data_catagorical.columns)\n",
        "pd.DataFrame(data_encoded, columns= columns_encoded).head()"
      ],
      "metadata": {
        "id": "EpGxo70lGkl6"
      },
      "execution_count": null,
      "outputs": []
    },
    {
      "cell_type": "code",
      "source": [
        "data[\"native-country\"].value_counts()"
      ],
      "metadata": {
        "id": "uWwNZSvSJvdj"
      },
      "execution_count": null,
      "outputs": []
    },
    {
      "cell_type": "markdown",
      "source": [
        "> Create a machine learning pipline"
      ],
      "metadata": {
        "id": "R1mnMa8MKHOD"
      }
    },
    {
      "cell_type": "code",
      "source": [
        "from sklearn.pipeline import make_pipeline\n",
        "from sklearn.linear_model import LogisticRegression\n",
        "\n",
        "model = make_pipeline(\n",
        "    OneHotEncoder(handle_unknown=\"ignore\"), LogisticRegression(max_iter=500)\n",
        ")"
      ],
      "metadata": {
        "id": "wLER7dEtKKfb"
      },
      "execution_count": 30,
      "outputs": []
    },
    {
      "cell_type": "code",
      "source": [
        "from sklearn.model_selection import cross_validate\n",
        "cv_results = cross_validate(model, data_catagorical, target)\n",
        "cv_results"
      ],
      "metadata": {
        "id": "W7M6L819KqHy"
      },
      "execution_count": null,
      "outputs": []
    },
    {
      "cell_type": "code",
      "source": [
        "scores = cv_results[\"test_score\"]\n",
        "print(f\"The accuracy is: {scores.mean():.3f} +/- {scores.std():.3f}\")"
      ],
      "metadata": {
        "colab": {
          "base_uri": "https://localhost:8080/"
        },
        "id": "59CIKCCiLNai",
        "outputId": "4a9eee8f-a678-4b13-8236-83bdc29f7a76"
      },
      "execution_count": 33,
      "outputs": [
        {
          "output_type": "stream",
          "name": "stdout",
          "text": [
            "The accuracy is: 0.833 +/- 0.002\n"
          ]
        }
      ]
    }
  ]
}