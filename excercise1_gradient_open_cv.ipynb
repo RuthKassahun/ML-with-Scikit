{
  "nbformat": 4,
  "nbformat_minor": 0,
  "metadata": {
    "colab": {
      "name": "excercise1 - gradient .ipynb",
      "provenance": [],
      "authorship_tag": "ABX9TyNTbze1ZlPimi898CspfpT1",
      "include_colab_link": true
    },
    "kernelspec": {
      "name": "python3",
      "display_name": "Python 3"
    },
    "language_info": {
      "name": "python"
    }
  },
  "cells": [
    {
      "cell_type": "markdown",
      "metadata": {
        "id": "view-in-github",
        "colab_type": "text"
      },
      "source": [
        "<a href=\"https://colab.research.google.com/github/RuthKassahun/ML-with-Scikit/blob/main/excercise1_gradient_open_cv.ipynb\" target=\"_parent\"><img src=\"https://colab.research.google.com/assets/colab-badge.svg\" alt=\"Open In Colab\"/></a>"
      ]
    },
    {
      "cell_type": "code",
      "execution_count": 40,
      "metadata": {
        "id": "HRXCZw7M-L8S"
      },
      "outputs": [],
      "source": [
        "import numpy as np\n",
        "import cv2 as cv\n",
        "from google.colab.patches import cv2_imshow\n",
        "import time"
      ]
    },
    {
      "cell_type": "code",
      "source": [
        "cv.__version__"
      ],
      "metadata": {
        "colab": {
          "base_uri": "https://localhost:8080/",
          "height": 35
        },
        "id": "ZDQgInbpAKur",
        "outputId": "41f1382b-28fa-4f29-8efb-3b4d40468bda"
      },
      "execution_count": 13,
      "outputs": [
        {
          "output_type": "execute_result",
          "data": {
            "application/vnd.google.colaboratory.intrinsic+json": {
              "type": "string"
            },
            "text/plain": [
              "'4.1.2'"
            ]
          },
          "metadata": {},
          "execution_count": 13
        }
      ]
    },
    {
      "cell_type": "code",
      "source": [
        "img = np.zeros((512,512), np.uint8)\n",
        "\n",
        "#print(img.shape)"
      ],
      "metadata": {
        "id": "_ng2JZ5b-Upn"
      },
      "execution_count": 18,
      "outputs": []
    },
    {
      "cell_type": "code",
      "source": [
        "t0= time.time()\n",
        "for y in range(0, img.shape[0]):\n",
        "  for x in range(0,img.shape[1]):\n",
        "    img[y][x] = (y/(img.shape[0]-1)*255)\n",
        "    \n",
        "print(f\"elapsed time ={time.time()-t0:.3f}\")    \n",
        "\n"
      ],
      "metadata": {
        "id": "LKGRWHTF_O0_"
      },
      "execution_count": null,
      "outputs": []
    },
    {
      "cell_type": "code",
      "source": [
        "cv2_imshow(img)\n",
        "cv.waitKey(0)\n",
        "cv.destroyAllWindows()\n"
      ],
      "metadata": {
        "colab": {
          "base_uri": "https://localhost:8080/",
          "height": 529
        },
        "id": "0lnT2Ypt-r-7",
        "outputId": "3c2e699b-e7c2-4e33-b314-5f5a042daf85"
      },
      "execution_count": 42,
      "outputs": [
        {
          "output_type": "display_data",
          "data": {
            "image/png": "[encoded data removed]",
            "text/plain": [
              "<PIL.Image.Image image mode=L size=512x512 at 0x7FD143912CD0>"
            ]
          },
          "metadata": {}
        }
      ]
    }
  ]
}